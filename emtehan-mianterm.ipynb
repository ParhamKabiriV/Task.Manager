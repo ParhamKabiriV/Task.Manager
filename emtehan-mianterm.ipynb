{
 "cells": [
  {
   "cell_type": "markdown",
   "id": "98d4c337-cb39-4ce4-a05f-18a72dc7e264",
   "metadata": {},
   "source": [
    "## Parham Kabiri Vahidan"
   ]
  },
  {
   "cell_type": "markdown",
   "id": "fa48ce16-40be-4431-b75d-cb7aacdbbaa6",
   "metadata": {},
   "source": [
    "### Emtehan mian term ML (Task Manager)"
   ]
  },
  {
   "cell_type": "code",
   "execution_count": 2,
   "id": "137671f4-c5ae-4f2d-9e2d-391f5d637f08",
   "metadata": {},
   "outputs": [
    {
     "name": "stdout",
     "output_type": "stream",
     "text": [
      "1.afzodan task jadid\n",
      "2.list kardan task ha\n",
      "3.alamat zadan anjam shodan task\n",
      "4.hazf task\n",
      "5.virayesh task\n",
      "6.zakhire sazi task ha\n",
      "7. khoroj\n"
     ]
    },
    {
     "name": "stdin",
     "output_type": "stream",
     "text": [
      "gozine mord nazar ra vared knid:  1\n",
      "onvan task ra vared knid:  Emtehan\n",
      "tozhihat task ra vared knid:  emtehan mian term\n",
      "deadline task ra vared knid (sal/mah/roz):  1404/3/15\n",
      "olaviat task ra vared knid(ziad,motevaset,kam):  ziad\n",
      "vaziat task ra vared knid(anjam shode,anjam nashode,dar hal anjam):  anjam nashode\n"
     ]
    },
    {
     "name": "stdout",
     "output_type": "stream",
     "text": [
      "task ezafe shod\n",
      "1.afzodan task jadid\n",
      "2.list kardan task ha\n",
      "3.alamat zadan anjam shodan task\n",
      "4.hazf task\n",
      "5.virayesh task\n",
      "6.zakhire sazi task ha\n",
      "7. khoroj\n"
     ]
    },
    {
     "name": "stdin",
     "output_type": "stream",
     "text": [
      "gozine mord nazar ra vared knid:  1\n",
      "onvan task ra vared knid:  Dars\n",
      "tozhihat task ra vared knid:  emtehan\n",
      "deadline task ra vared knid (sal/mah/roz):  1404/12/23\n",
      "olaviat task ra vared knid(ziad,motevaset,kam):  kam\n",
      "vaziat task ra vared knid(anjam shode,anjam nashode,dar hal anjam):  anjam nashode\n"
     ]
    },
    {
     "name": "stdout",
     "output_type": "stream",
     "text": [
      "task ezafe shod\n",
      "1.afzodan task jadid\n",
      "2.list kardan task ha\n",
      "3.alamat zadan anjam shodan task\n",
      "4.hazf task\n",
      "5.virayesh task\n",
      "6.zakhire sazi task ha\n",
      "7. khoroj\n"
     ]
    },
    {
     "name": "stdin",
     "output_type": "stream",
     "text": [
      "gozine mord nazar ra vared knid:  1\n",
      "onvan task ra vared knid:  Dars2\n",
      "tozhihat task ra vared knid:  emtehan\n",
      "deadline task ra vared knid (sal/mah/roz):  1404/9/13\n",
      "olaviat task ra vared knid(ziad,motevaset,kam):  kam\n",
      "vaziat task ra vared knid(anjam shode,anjam nashode,dar hal anjam):  anjam nashode\n"
     ]
    },
    {
     "name": "stdout",
     "output_type": "stream",
     "text": [
      "task ezafe shod\n",
      "1.afzodan task jadid\n",
      "2.list kardan task ha\n",
      "3.alamat zadan anjam shodan task\n",
      "4.hazf task\n",
      "5.virayesh task\n",
      "6.zakhire sazi task ha\n",
      "7. khoroj\n"
     ]
    },
    {
     "name": "stdin",
     "output_type": "stream",
     "text": [
      "gozine mord nazar ra vared knid:  2\n"
     ]
    },
    {
     "name": "stdout",
     "output_type": "stream",
     "text": [
      "1. Emtehan | emtehan mian term | 1404/3/15 | ziad | anjam nashode\n",
      "2. Dars | emtehan | 1404/12/23 | kam | anjam nashode\n",
      "3. Dars2 | emtehan | 1404/9/13 | kam | anjam nashode\n",
      "1.afzodan task jadid\n",
      "2.list kardan task ha\n",
      "3.alamat zadan anjam shodan task\n",
      "4.hazf task\n",
      "5.virayesh task\n",
      "6.zakhire sazi task ha\n",
      "7. khoroj\n"
     ]
    },
    {
     "name": "stdin",
     "output_type": "stream",
     "text": [
      "gozine mord nazar ra vared knid:  3\n"
     ]
    },
    {
     "name": "stdout",
     "output_type": "stream",
     "text": [
      "1. Emtehan | emtehan mian term | 1404/3/15 | ziad | anjam nashode\n",
      "2. Dars | emtehan | 1404/12/23 | kam | anjam nashode\n",
      "3. Dars2 | emtehan | 1404/9/13 | kam | anjam nashode\n"
     ]
    },
    {
     "name": "stdin",
     "output_type": "stream",
     "text": [
      "shomare task mored nazar ra baraye alamat zadan anjam shode vared konid:  3\n"
     ]
    },
    {
     "name": "stdout",
     "output_type": "stream",
     "text": [
      "task be onvan anjam shode alamat khord\n",
      "1.afzodan task jadid\n",
      "2.list kardan task ha\n",
      "3.alamat zadan anjam shodan task\n",
      "4.hazf task\n",
      "5.virayesh task\n",
      "6.zakhire sazi task ha\n",
      "7. khoroj\n"
     ]
    },
    {
     "name": "stdin",
     "output_type": "stream",
     "text": [
      "gozine mord nazar ra vared knid:  2\n"
     ]
    },
    {
     "name": "stdout",
     "output_type": "stream",
     "text": [
      "1. Emtehan | emtehan mian term | 1404/3/15 | ziad | anjam nashode\n",
      "2. Dars | emtehan | 1404/12/23 | kam | anjam nashode\n",
      "3. Dars2 | emtehan | 1404/9/13 | kam | anjam shode\n",
      "1.afzodan task jadid\n",
      "2.list kardan task ha\n",
      "3.alamat zadan anjam shodan task\n",
      "4.hazf task\n",
      "5.virayesh task\n",
      "6.zakhire sazi task ha\n",
      "7. khoroj\n"
     ]
    },
    {
     "name": "stdin",
     "output_type": "stream",
     "text": [
      "gozine mord nazar ra vared knid:  4\n"
     ]
    },
    {
     "name": "stdout",
     "output_type": "stream",
     "text": [
      "1. Emtehan | emtehan mian term | 1404/3/15 | ziad | anjam nashode\n",
      "2. Dars | emtehan | 1404/12/23 | kam | anjam nashode\n",
      "3. Dars2 | emtehan | 1404/9/13 | kam | anjam shode\n"
     ]
    },
    {
     "name": "stdin",
     "output_type": "stream",
     "text": [
      "shomare task mord nazar ro baraye pak kardan vared konid:  2\n"
     ]
    },
    {
     "name": "stdout",
     "output_type": "stream",
     "text": [
      " task 'Dars' hazf shod.\n",
      "1.afzodan task jadid\n",
      "2.list kardan task ha\n",
      "3.alamat zadan anjam shodan task\n",
      "4.hazf task\n",
      "5.virayesh task\n",
      "6.zakhire sazi task ha\n",
      "7. khoroj\n"
     ]
    },
    {
     "name": "stdin",
     "output_type": "stream",
     "text": [
      "gozine mord nazar ra vared knid:  2\n"
     ]
    },
    {
     "name": "stdout",
     "output_type": "stream",
     "text": [
      "1. Emtehan | emtehan mian term | 1404/3/15 | ziad | anjam nashode\n",
      "2. Dars2 | emtehan | 1404/9/13 | kam | anjam shode\n",
      "1.afzodan task jadid\n",
      "2.list kardan task ha\n",
      "3.alamat zadan anjam shodan task\n",
      "4.hazf task\n",
      "5.virayesh task\n",
      "6.zakhire sazi task ha\n",
      "7. khoroj\n"
     ]
    },
    {
     "name": "stdin",
     "output_type": "stream",
     "text": [
      "gozine mord nazar ra vared knid:  5\n"
     ]
    },
    {
     "name": "stdout",
     "output_type": "stream",
     "text": [
      "1. Emtehan | emtehan mian term | 1404/3/15 | ziad | anjam nashode\n",
      "2. Dars2 | emtehan | 1404/9/13 | kam | anjam shode\n"
     ]
    },
    {
     "name": "stdin",
     "output_type": "stream",
     "text": [
      "shomare task mord nazar ra vared knid:  1\n",
      "fild mord nzr ra brye taghir vared knid(onvan,tozih,deadline,olaviat):  tozih\n",
      "meghdar jadid field mord nazar ra vared knid:  tamammmmmmm\n"
     ]
    },
    {
     "name": "stdout",
     "output_type": "stream",
     "text": [
      "task edit shod\n",
      "1.afzodan task jadid\n",
      "2.list kardan task ha\n",
      "3.alamat zadan anjam shodan task\n",
      "4.hazf task\n",
      "5.virayesh task\n",
      "6.zakhire sazi task ha\n",
      "7. khoroj\n"
     ]
    },
    {
     "name": "stdin",
     "output_type": "stream",
     "text": [
      "gozine mord nazar ra vared knid:  2\n"
     ]
    },
    {
     "name": "stdout",
     "output_type": "stream",
     "text": [
      "1. Emtehan | tamammmmmmm | 1404/3/15 | ziad | anjam nashode\n",
      "2. Dars2 | emtehan | 1404/9/13 | kam | anjam shode\n",
      "1.afzodan task jadid\n",
      "2.list kardan task ha\n",
      "3.alamat zadan anjam shodan task\n",
      "4.hazf task\n",
      "5.virayesh task\n",
      "6.zakhire sazi task ha\n",
      "7. khoroj\n"
     ]
    },
    {
     "name": "stdin",
     "output_type": "stream",
     "text": [
      "gozine mord nazar ra vared knid:  6\n"
     ]
    },
    {
     "name": "stdout",
     "output_type": "stream",
     "text": [
      "tamame task-ha dar file zakhire shod.\n",
      "1.afzodan task jadid\n",
      "2.list kardan task ha\n",
      "3.alamat zadan anjam shodan task\n",
      "4.hazf task\n",
      "5.virayesh task\n",
      "6.zakhire sazi task ha\n",
      "7. khoroj\n"
     ]
    },
    {
     "name": "stdin",
     "output_type": "stream",
     "text": [
      "gozine mord nazar ra vared knid:  7\n"
     ]
    },
    {
     "name": "stdout",
     "output_type": "stream",
     "text": [
      "****tamammmmmmmmm****\n"
     ]
    }
   ],
   "source": [
    "import json\n",
    "\n",
    "tasks = []\n",
    "\n",
    "def newtask():\n",
    "    task = {\n",
    "        \"onvan\": input(\"onvan task ra vared knid: \"),\n",
    "        \"tozih\": input(\"tozhihat task ra vared knid: \"),\n",
    "        \"deadline\": input(\"deadline task ra vared knid (sal/mah/roz): \"),\n",
    "        \"olaviat\": input(\"olaviat task ra vared knid(ziad,motevaset,kam): \"),\n",
    "        \"vaziat\": input(\"vaziat task ra vared knid(anjam shode,anjam nashode,dar hal anjam): \")\n",
    "    }\n",
    "    tasks.append(task)\n",
    "    print(\"task ezafe shod\")\n",
    "    \n",
    "def showtask():\n",
    "    if not tasks:\n",
    "        print(\"hich taski vojod nadarad\")\n",
    "        \n",
    "        return\n",
    "\n",
    "    olaviat_order = {\"ziad\": 1, \"motevaset\": 2, \"kam\": 3}\n",
    "    sorted_tasks = sorted(tasks, key= lambda x: olaviat_order.get(x[\"olaviat\"], 4))\n",
    "    \n",
    "    for i, task in enumerate(sorted_tasks, 1):\n",
    "        print(f\"{i}. {task['onvan']} | {task['tozih']} | {task['deadline']} | {task['olaviat']} | {task['vaziat']}\")\n",
    "        \n",
    "def markdone():\n",
    "    showtask()\n",
    "    shomare = int(input(\"shomare task mored nazar ra baraye alamat zadan anjam shode vared konid: \")) - 1\n",
    "    if 0 <= shomare < len(tasks):\n",
    "        tasks[shomare][\"vaziat\"] = \"anjam shode\"\n",
    "        print(\"task be onvan anjam shode alamat khord\")\n",
    "    else:\n",
    "        print(\"shomare eshtebah ast\")\n",
    "        \n",
    "def deletetask():\n",
    "    showtask()\n",
    "    shomare = int(input(\"shomare task mord nazar ro baraye pak kardan vared konid: \")) -1\n",
    "    if 0 <= shomare < len(tasks):\n",
    "        delete = tasks.pop(shomare)\n",
    "        print(f\" task '{delete[\"onvan\"]}' hazf shod.\")\n",
    "    else:\n",
    "        print(\"shomare eshtebah ast\")\n",
    "\n",
    "def edittask():\n",
    "    showtask()\n",
    "    shomare = int(input(\"shomare task mord nazar ra vared knid: \"))-1\n",
    "    if 0 <= shomare < len(tasks):\n",
    "        field = input(\"fild mord nzr ra brye taghir vared knid(onvan,tozih,deadline,olaviat): \")\n",
    "        if field in tasks[shomare]:\n",
    "            newfield = input(\"meghdar jadid field mord nazar ra vared knid: \")\n",
    "            tasks[shomare][field] = newfield\n",
    "            print(\"task edit shod\")\n",
    "    else:\n",
    "        print(\"shomare eshtebah ast\")\n",
    "        \n",
    "def savefile():\n",
    "    with open(\"tasks.json\", \"w\", encoding=\"utf-8\") as f:\n",
    "        json.dump(tasks, f, ensure_ascii=False, indent=4)\n",
    "    print(\"tamame task-ha dar file zakhire shod.\")\n",
    "        \n",
    "while True:\n",
    "    print(\"1.afzodan task jadid\")\n",
    "    print(\"2.list kardan task ha\")\n",
    "    print(\"3.alamat zadan anjam shodan task\")\n",
    "    print(\"4.hazf task\")\n",
    "    print(\"5.virayesh task\")\n",
    "    print(\"6.zakhire sazi task ha\")\n",
    "    print(\"7. khoroj\")\n",
    "    choice = int(input(\"gozine mord nazar ra vared knid: \"))\n",
    "    if choice== 1:\n",
    "        newtask()\n",
    "    elif choice == 2:\n",
    "        showtask()\n",
    "    elif choice == 3:\n",
    "        markdone()\n",
    "    elif choice == 4:\n",
    "        deletetask()\n",
    "    elif choice == 5:\n",
    "        edittask()\n",
    "    elif choice == 6:\n",
    "        savefile()\n",
    "    elif choice == 7:\n",
    "        print(\"****tamammmmmmmmm****\")\n",
    "        break\n",
    "    else:\n",
    "        print(\"gozine ra dorost vared knid\")"
   ]
  },
  {
   "cell_type": "code",
   "execution_count": null,
   "id": "d343a891-3bfc-4656-9011-7936dcafbc64",
   "metadata": {},
   "outputs": [],
   "source": []
  }
 ],
 "metadata": {
  "kernelspec": {
   "display_name": "Python 3 (ipykernel)",
   "language": "python",
   "name": "python3"
  },
  "language_info": {
   "codemirror_mode": {
    "name": "ipython",
    "version": 3
   },
   "file_extension": ".py",
   "mimetype": "text/x-python",
   "name": "python",
   "nbconvert_exporter": "python",
   "pygments_lexer": "ipython3",
   "version": "3.13.3"
  }
 },
 "nbformat": 4,
 "nbformat_minor": 5
}
